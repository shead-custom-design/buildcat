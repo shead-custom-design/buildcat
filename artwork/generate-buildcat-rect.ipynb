{
 "cells": [
  {
   "cell_type": "code",
   "execution_count": 6,
   "id": "statistical-glass",
   "metadata": {},
   "outputs": [],
   "source": [
    "import graphcat.notebook\n",
    "import imagecat.notebook"
   ]
  },
  {
   "cell_type": "code",
   "execution_count": 18,
   "id": "pointed-pierre",
   "metadata": {},
   "outputs": [
    {
     "data": {
      "image/svg+xml": [
       "<svg xmlns=\"http://www.w3.org/2000/svg\" xmlns:xlink=\"http://www.w3.org/1999/xlink\" width=\"437pt\" height=\"160pt\" viewBox=\"0.00 0.00 437.00 159.50\">\n",
       "<g id=\"graph0\" class=\"graph\" transform=\"scale(1 1) rotate(0) translate(4 155.5)\">\n",
       "<polygon fill=\"#ffffff\" stroke=\"transparent\" points=\"-4,4 -4,-155.5 433,-155.5 433,4 -4,4\"/>\n",
       "<!-- /background -->\n",
       "<g id=\"node1\" class=\"node\">\n",
       "<title>/background</title>\n",
       "<polygon fill=\"#ffffff\" stroke=\"#494744\" points=\"198,-31 141,-31 141,-16 198,-16 198,-31\"/>\n",
       "<text text-anchor=\"middle\" x=\"169.5\" y=\"-21.6\" font-family=\"Helvetica,sans-Serif\" font-size=\"8.00\" fill=\"#494744\">/background</text>\n",
       "</g>\n",
       "<!-- /comp -->\n",
       "<g id=\"node2\" class=\"node\">\n",
       "<title>/comp</title>\n",
       "<polygon fill=\"#ffffff\" stroke=\"#494744\" points=\"328.5,-96 294.5,-96 294.5,-81 328.5,-81 328.5,-96\"/>\n",
       "<text text-anchor=\"middle\" x=\"311.5\" y=\"-86.6\" font-family=\"Helvetica,sans-Serif\" font-size=\"8.00\" fill=\"#494744\">/comp</text>\n",
       "</g>\n",
       "<!-- /background&#45;&gt;/comp -->\n",
       "<g id=\"edge1\" class=\"edge\">\n",
       "<title>/background-&gt;/comp</title>\n",
       "<path fill=\"none\" stroke=\"#494744\" d=\"M198.3231,-27.5271C219.6892,-31.4007 248.9736,-38.6291 272,-51.5 281.9987,-57.0889 291.4318,-65.7452 298.5707,-73.2802\"/>\n",
       "<polygon fill=\"#494744\" stroke=\"#494744\" points=\"296.0512,-75.7129 305.3349,-80.8181 301.2611,-71.0378 296.0512,-75.7129\"/>\n",
       "<text text-anchor=\"middle\" x=\"246.5\" y=\"-54.1\" font-family=\"Helvetica,sans-Serif\" font-size=\"8.00\" fill=\"#000000\">  background  </text>\n",
       "</g>\n",
       "<!-- /save -->\n",
       "<g id=\"node7\" class=\"node\">\n",
       "<title>/save</title>\n",
       "<polygon fill=\"#ffffff\" stroke=\"#494744\" points=\"429,-113 397,-113 397,-98 429,-98 429,-113\"/>\n",
       "<text text-anchor=\"middle\" x=\"413\" y=\"-103.6\" font-family=\"Helvetica,sans-Serif\" font-size=\"8.00\" fill=\"#494744\">/save</text>\n",
       "</g>\n",
       "<!-- /comp&#45;&gt;/save -->\n",
       "<g id=\"edge7\" class=\"edge\">\n",
       "<title>/comp-&gt;/save</title>\n",
       "<path fill=\"none\" stroke=\"#494744\" d=\"M328.6905,-90.085C343.0246,-91.5522 363.945,-94.0321 382,-97.5 383.6887,-97.8244 385.422,-98.1872 387.1645,-98.5744\"/>\n",
       "<polygon fill=\"#494744\" stroke=\"#494744\" points=\"386.4539,-102.0034 396.9973,-100.9613 388.1052,-95.201 386.4539,-102.0034\"/>\n",
       "<text text-anchor=\"middle\" x=\"366.5\" y=\"-100.1\" font-family=\"Helvetica,sans-Serif\" font-size=\"8.00\" fill=\"#000000\">  image  </text>\n",
       "</g>\n",
       "<!-- /background/color -->\n",
       "<g id=\"node3\" class=\"node\">\n",
       "<title>/background/color</title>\n",
       "<polygon fill=\"#ffffff\" stroke=\"#494744\" points=\"76,-48 0,-48 0,-33 76,-33 76,-48\"/>\n",
       "<text text-anchor=\"middle\" x=\"38\" y=\"-38.6\" font-family=\"Helvetica,sans-Serif\" font-size=\"8.00\" fill=\"#494744\">/background/color</text>\n",
       "</g>\n",
       "<!-- /background/color&#45;&gt;/background -->\n",
       "<g id=\"edge2\" class=\"edge\">\n",
       "<title>/background/color-&gt;/background</title>\n",
       "<path fill=\"none\" stroke=\"#494744\" d=\"M76.0352,-35.5829C93.1212,-33.3741 113.2635,-30.7701 130.4659,-28.5462\"/>\n",
       "<polygon fill=\"#494744\" stroke=\"#494744\" points=\"131.2747,-31.9709 140.7434,-27.2176 130.3771,-25.0287 131.2747,-31.9709\"/>\n",
       "<text text-anchor=\"middle\" x=\"104.5\" y=\"-36.1\" font-family=\"Helvetica,sans-Serif\" font-size=\"8.00\" fill=\"#000000\">  color  </text>\n",
       "</g>\n",
       "<!-- /background/res -->\n",
       "<g id=\"node4\" class=\"node\">\n",
       "<title>/background/res</title>\n",
       "<polygon fill=\"#ffffff\" stroke=\"#494744\" points=\"73,-15 3,-15 3,0 73,0 73,-15\"/>\n",
       "<text text-anchor=\"middle\" x=\"38\" y=\"-5.6\" font-family=\"Helvetica,sans-Serif\" font-size=\"8.00\" fill=\"#494744\">/background/res</text>\n",
       "</g>\n",
       "<!-- /background/res&#45;&gt;/background -->\n",
       "<g id=\"edge3\" class=\"edge\">\n",
       "<title>/background/res-&gt;/background</title>\n",
       "<path fill=\"none\" stroke=\"#494744\" d=\"M73.2024,-6.5604C87.2078,-6.6598 103.4282,-7.369 118,-9.5 124.0494,-10.3847 130.4018,-11.7434 136.499,-13.273\"/>\n",
       "<polygon fill=\"#494744\" stroke=\"#494744\" points=\"135.854,-16.7242 146.4209,-15.9551 137.6807,-9.9668 135.854,-16.7242\"/>\n",
       "<text text-anchor=\"middle\" x=\"104.5\" y=\"-12.1\" font-family=\"Helvetica,sans-Serif\" font-size=\"8.00\" fill=\"#000000\">  res  </text>\n",
       "</g>\n",
       "<!-- /load -->\n",
       "<g id=\"node5\" class=\"node\">\n",
       "<title>/load</title>\n",
       "<polygon fill=\"#ffffff\" stroke=\"#494744\" points=\"184.5,-145 154.5,-145 154.5,-130 184.5,-130 184.5,-145\"/>\n",
       "<text text-anchor=\"middle\" x=\"169.5\" y=\"-135.6\" font-family=\"Helvetica,sans-Serif\" font-size=\"8.00\" fill=\"#494744\">/load</text>\n",
       "</g>\n",
       "<!-- /load&#45;&gt;/comp -->\n",
       "<g id=\"edge4\" class=\"edge\">\n",
       "<title>/load-&gt;/comp</title>\n",
       "<path fill=\"none\" stroke=\"#494744\" d=\"M184.7065,-140.5628C205.9442,-143.9849 244.9212,-147.0754 272,-130.5 283.0516,-123.7351 278.1457,-114.9606 287,-105.5 288.0392,-104.3897 289.1625,-103.3103 290.3369,-102.2694\"/>\n",
       "<polygon fill=\"#494744\" stroke=\"#494744\" points=\"292.6646,-104.8954 298.4789,-96.0385 288.4104,-99.3364 292.6646,-104.8954\"/>\n",
       "<text text-anchor=\"middle\" x=\"246.5\" y=\"-145.1\" font-family=\"Helvetica,sans-Serif\" font-size=\"8.00\" fill=\"#000000\">  foreground  </text>\n",
       "</g>\n",
       "<!-- /load&#45;&gt;/comp -->\n",
       "<g id=\"edge5\" class=\"edge\">\n",
       "<title>/load-&gt;/comp</title>\n",
       "<path fill=\"none\" stroke=\"#494744\" d=\"M184.6965,-132.2561C208.5049,-124.0406 254.929,-108.021 284.5144,-97.8119\"/>\n",
       "<polygon fill=\"#494744\" stroke=\"#494744\" points=\"285.9009,-101.0361 294.2123,-94.4655 283.6175,-94.419 285.9009,-101.0361\"/>\n",
       "<text text-anchor=\"middle\" x=\"246.5\" y=\"-121.1\" font-family=\"Helvetica,sans-Serif\" font-size=\"8.00\" fill=\"#000000\">  mask  </text>\n",
       "</g>\n",
       "<!-- /load/path -->\n",
       "<g id=\"node6\" class=\"node\">\n",
       "<title>/load/path</title>\n",
       "<polygon fill=\"#ffffff\" stroke=\"#494744\" points=\"62,-145 14,-145 14,-130 62,-130 62,-145\"/>\n",
       "<text text-anchor=\"middle\" x=\"38\" y=\"-135.6\" font-family=\"Helvetica,sans-Serif\" font-size=\"8.00\" fill=\"#494744\">/load/path</text>\n",
       "</g>\n",
       "<!-- /load/path&#45;&gt;/load -->\n",
       "<g id=\"edge6\" class=\"edge\">\n",
       "<title>/load/path-&gt;/load</title>\n",
       "<path fill=\"none\" stroke=\"#494744\" d=\"M62.1191,-137.5C85.2904,-137.5 120.1802,-137.5 143.851,-137.5\"/>\n",
       "<polygon fill=\"#494744\" stroke=\"#494744\" points=\"144.162,-141.0001 154.162,-137.5 144.1619,-134.0001 144.162,-141.0001\"/>\n",
       "<text text-anchor=\"middle\" x=\"104.5\" y=\"-140.1\" font-family=\"Helvetica,sans-Serif\" font-size=\"8.00\" fill=\"#000000\">  path  </text>\n",
       "</g>\n",
       "<!-- /comp/fglayer -->\n",
       "<g id=\"node8\" class=\"node\">\n",
       "<title>/comp/fglayer</title>\n",
       "<polygon fill=\"#ffffff\" stroke=\"#494744\" points=\"200,-97 139,-97 139,-82 200,-82 200,-97\"/>\n",
       "<text text-anchor=\"middle\" x=\"169.5\" y=\"-87.6\" font-family=\"Helvetica,sans-Serif\" font-size=\"8.00\" fill=\"#494744\">/comp/fglayer</text>\n",
       "</g>\n",
       "<!-- /comp/fglayer&#45;&gt;/comp -->\n",
       "<g id=\"edge8\" class=\"edge\">\n",
       "<title>/comp/fglayer-&gt;/comp</title>\n",
       "<path fill=\"none\" stroke=\"#494744\" d=\"M200.3119,-89.283C225.2108,-89.1077 259.9419,-88.8631 283.9312,-88.6941\"/>\n",
       "<polygon fill=\"#494744\" stroke=\"#494744\" points=\"284.1485,-92.1928 294.1235,-88.6224 284.0991,-85.193 284.1485,-92.1928\"/>\n",
       "<text text-anchor=\"middle\" x=\"246.5\" y=\"-91.1\" font-family=\"Helvetica,sans-Serif\" font-size=\"8.00\" fill=\"#000000\">  fglayer  </text>\n",
       "</g>\n",
       "<!-- /comp/masklayer -->\n",
       "<g id=\"node9\" class=\"node\">\n",
       "<title>/comp/masklayer</title>\n",
       "<polygon fill=\"#ffffff\" stroke=\"#494744\" points=\"206,-64 133,-64 133,-49 206,-49 206,-64\"/>\n",
       "<text text-anchor=\"middle\" x=\"169.5\" y=\"-54.6\" font-family=\"Helvetica,sans-Serif\" font-size=\"8.00\" fill=\"#494744\">/comp/masklayer</text>\n",
       "</g>\n",
       "<!-- /comp/masklayer&#45;&gt;/comp -->\n",
       "<g id=\"edge9\" class=\"edge\">\n",
       "<title>/comp/masklayer-&gt;/comp</title>\n",
       "<path fill=\"none\" stroke=\"#494744\" d=\"M206.289,-62.086C225.93,-65.3775 250.4346,-69.9793 272,-75.5 276.1701,-76.5676 280.5405,-77.843 284.7916,-79.1717\"/>\n",
       "<polygon fill=\"#494744\" stroke=\"#494744\" points=\"283.7515,-82.5139 294.3441,-82.2955 285.9273,-75.8606 283.7515,-82.5139\"/>\n",
       "<text text-anchor=\"middle\" x=\"246.5\" y=\"-78.1\" font-family=\"Helvetica,sans-Serif\" font-size=\"8.00\" fill=\"#000000\">  masklayer  </text>\n",
       "</g>\n",
       "<!-- /save/path -->\n",
       "<g id=\"node10\" class=\"node\">\n",
       "<title>/save/path</title>\n",
       "<polygon fill=\"#ffffff\" stroke=\"#494744\" points=\"336,-129 287,-129 287,-114 336,-114 336,-129\"/>\n",
       "<text text-anchor=\"middle\" x=\"311.5\" y=\"-119.6\" font-family=\"Helvetica,sans-Serif\" font-size=\"8.00\" fill=\"#494744\">/save/path</text>\n",
       "</g>\n",
       "<!-- /save/path&#45;&gt;/save -->\n",
       "<g id=\"edge10\" class=\"edge\">\n",
       "<title>/save/path-&gt;/save</title>\n",
       "<path fill=\"none\" stroke=\"#494744\" d=\"M336.0703,-117.6268C351.4199,-115.2072 371.1696,-112.094 386.8146,-109.6277\"/>\n",
       "<polygon fill=\"#494744\" stroke=\"#494744\" points=\"387.5525,-113.0547 396.8855,-108.0402 386.4624,-106.1401 387.5525,-113.0547\"/>\n",
       "<text text-anchor=\"middle\" x=\"366.5\" y=\"-117.1\" font-family=\"Helvetica,sans-Serif\" font-size=\"8.00\" fill=\"#000000\">  path  </text>\n",
       "</g>\n",
       "</g>\n",
       "</svg>"
      ],
      "text/plain": [
       "<IPython.core.display.SVG object>"
      ]
     },
     "metadata": {},
     "output_type": "display_data"
    }
   ],
   "source": [
    "graph = graphcat.StaticGraph()\n",
    "\n",
    "imagecat.add_task(graph, \"/background\", imagecat.operator.color.fill, color=(1, 1, 1), res=(2048, 1024))\n",
    "imagecat.add_task(graph, \"/load\", imagecat.operator.load, path=\"buildcat.png\")\n",
    "imagecat.add_task(graph, \"/comp\", imagecat.operator.transform.composite, fglayer=\"C\", masklayer=\"A\")\n",
    "imagecat.add_task(graph, \"/save\", imagecat.operator.save, path=\"buildcat-rect.png\")\n",
    "\n",
    "imagecat.add_links(graph, \"/background\", (\"/comp\", \"background\"))\n",
    "imagecat.add_links(graph, \"/load\", [(\"/comp\", \"foreground\"), (\"/comp\", \"mask\")])\n",
    "imagecat.add_links(graph, \"/comp\", (\"/save\", \"image\"))\n",
    "\n",
    "graphcat.notebook.display(graph)"
   ]
  },
  {
   "cell_type": "code",
   "execution_count": 21,
   "id": "available-benchmark",
   "metadata": {},
   "outputs": [
    {
     "data": {
      "application/vnd.jupyter.widget-view+json": {
       "model_id": "afb8c554e7f940d0942e9f1ca02fdc4c",
       "version_major": 2,
       "version_minor": 0
      },
      "text/plain": [
       "Accordion(children=(HTML(value=''),), _titles={'0': 'Layer: C'})"
      ]
     },
     "metadata": {},
     "output_type": "display_data"
    }
   ],
   "source": [
    "imagecat.notebook.display(graph.output(\"/comp\"))\n",
    "graph.update(\"/save\")"
   ]
  },
  {
   "cell_type": "code",
   "execution_count": null,
   "id": "selective-islam",
   "metadata": {},
   "outputs": [],
   "source": []
  }
 ],
 "metadata": {
  "kernelspec": {
   "display_name": "Python 3",
   "language": "python",
   "name": "python3"
  },
  "language_info": {
   "codemirror_mode": {
    "name": "ipython",
    "version": 3
   },
   "file_extension": ".py",
   "mimetype": "text/x-python",
   "name": "python",
   "nbconvert_exporter": "python",
   "pygments_lexer": "ipython3",
   "version": "3.8.2"
  }
 },
 "nbformat": 4,
 "nbformat_minor": 5
}
